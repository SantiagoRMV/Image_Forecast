{
 "cells": [
  {
   "cell_type": "code",
   "execution_count": 1,
   "metadata": {},
   "outputs": [],
   "source": [
    "import os\n",
    "import cv2\n",
    "import numpy as np\n",
    "import matplotlib.pyplot as plt\n",
    "import tensorflow as tf\n",
    "from tensorflow.keras.applications import VGG16\n",
    "from tensorflow.keras.models import Model, Sequential\n",
    "from tensorflow.keras.layers import LSTM, Dense, Reshape, Flatten, Conv2D, TimeDistributed"
   ]
  },
  {
   "cell_type": "code",
   "execution_count": 2,
   "metadata": {},
   "outputs": [],
   "source": [
    "# Parámetros \n",
    "future_steps = 6\n",
    "height, width, channels = 480, 480, 3 "
   ]
  },
  {
   "cell_type": "code",
   "execution_count": 3,
   "metadata": {},
   "outputs": [
    {
     "name": "stdout",
     "output_type": "stream",
     "text": [
      "Número total de archivos de imagen: 1026\n",
      "sequence_length: 138, future_steps: 6\n"
     ]
    }
   ],
   "source": [
    "# Obtener el número total de imágenes\n",
    "image_folder = '../data/Images/'\n",
    "forecast_folder = '..data/Images_Forecast/'\n",
    "os.makedirs(forecast_folder, exist_ok=True)  # Crear el folder 'Images/Forecast' si no existe\n",
    "image_files = sorted([f'../data/Images/{i}' for i in os.listdir(image_folder) if i.endswith('.jpg')])\n",
    "sequence_length = 138\n",
    "\n",
    "if sequence_length <= 0:\n",
    "    raise ValueError(\"No hay suficientes imágenes para formar secuencias con los parámetros dados.\")\n",
    "\n",
    "print(f\"Número total de archivos de imagen: {len(image_files)}\")\n",
    "print(f\"sequence_length: {sequence_length}, future_steps: {future_steps}\")"
   ]
  },
  {
   "cell_type": "code",
   "execution_count": null,
   "metadata": {},
   "outputs": [
    {
     "ename": "",
     "evalue": "",
     "output_type": "error",
     "traceback": [
      "\u001b[1;31mEl kernel se bloqueó al ejecutar código en la celda actual o en una celda anterior. \n",
      "\u001b[1;31mRevise el código de las celdas para identificar una posible causa del error. \n",
      "\u001b[1;31mHaga clic <a href='https://aka.ms/vscodeJupyterKernelCrash'>aquí</a> para obtener más información. \n",
      "\u001b[1;31mVea Jupyter <a href='command:jupyter.viewOutput'>log</a> para obtener más detalles."
     ]
    }
   ],
   "source": [
    "# Función para cargar y preprocesar imágenes\n",
    "def load_and_preprocess_image(image_path, target_size=(height, width)):\n",
    "    image = cv2.imread(image_path)\n",
    "    if image is None:\n",
    "        raise FileNotFoundError(f\"No se puede leer la imagen: {image_path}\")\n",
    "    image = cv2.resize(image, target_size)\n",
    "    image = image.astype('float32') / 255.0  # Normalizacion RGB\n",
    "    return image\n",
    "\n",
    "# Función para cargar secuencias de imágenes\n",
    "def load_image_sequences(folder, sequence_length, future_steps):\n",
    "    X = []\n",
    "    y = []\n",
    "    image_files = sorted([f'../data/Images/{i}' for i in os.listdir(folder) if i.endswith('.jpgnj')])\n",
    "    \n",
    "    for i in range(0, len(image_files) - sequence_length - future_steps + 1):\n",
    "        sequence_images = []\n",
    "        future_images = []\n",
    "\n",
    "        for j in range(sequence_length):\n",
    "            image_path = image_files[i + j]\n",
    "            image = load_and_preprocess_image(image_path, target_size=(height, width))\n",
    "            sequence_images.append(image)\n",
    "\n",
    "        for k in range(sequence_length, sequence_length + future_steps):\n",
    "            image_path = image_files[i + k]\n",
    "            image = load_and_preprocess_image(image_path, target_size=(height, width))\n",
    "            future_images.append(image)\n",
    "\n",
    "        X.append(sequence_images)\n",
    "        y.append(future_images)\n",
    "\n",
    "    return np.array(X), np.array(y)"
   ]
  },
  {
   "cell_type": "code",
   "execution_count": null,
   "metadata": {},
   "outputs": [],
   "source": [
    "# Cargar secuencias de imágenes\n",
    "X, y = load_image_sequences(image_folder, sequence_length, future_steps)\n",
    "\n",
    "if X.size == 0 or y.size == 0:\n",
    "    print(\"No se encontraron secuencias de imágenes válidas.\")\n",
    "else:\n",
    "    # Extraer features usando VGG16\n",
    "    base_model = VGG16(weights='imagenet', include_top=False, input_shape=(height, width, channels))\n",
    "    flatten_layer = Flatten()(base_model.output)\n",
    "    feature_extractor = Model(inputs=base_model.input, outputs=flatten_layer)\n",
    "\n",
    "    def extract_features(image_sequences):\n",
    "        num_sequences = image_sequences.shape[0]\n",
    "        features = np.zeros((num_sequences, sequence_length, feature_extractor.output_shape[1]))\n",
    "\n",
    "        for i in range(num_sequences):\n",
    "            for j in range(sequence_length):\n",
    "                image = image_sequences[i, j]\n",
    "                image = np.expand_dims(image, axis=0)  # Añadir dimensión del lote\n",
    "                feature = feature_extractor.predict(image)\n",
    "                features[i, j] = feature.squeeze()\n",
    "        return features\n",
    "\n",
    "    X_features = extract_features(X)\n",
    "\n",
    "    # Modelo LSTM\n",
    "    model = Sequential()\n",
    "    model.add(LSTM(256, input_shape=(sequence_length, feature_extractor.output_shape[1]), return_sequences=True))\n",
    "    model.add(LSTM(128, return_sequences=False))\n",
    "    model.add(Dense(future_steps * height * width * channels, activation='linear'))\n",
    "    model.add(Reshape((future_steps, height, width, channels)))\n",
    "\n",
    "    model.compile(optimizer='adam', loss='mse')\n",
    "    model.summary()\n",
    "\n",
    "    # Entrenar el modelo (ajustar validation_split si hay pocas muestras)\n",
    "    validation_split = 0.2 if X_features.shape[0] > 1 else 0.0\n",
    "    if validation_split > 0:\n",
    "        history = model.fit(X_features, y, epochs=30, batch_size=32, validation_split=validation_split)\n",
    "    else:\n",
    "        history = model.fit(X_features, y, epochs=30, batch_size=32)\n",
    "\n",
    "    # Realizar predicciones\n",
    "    def make_predictions(model, X_features):\n",
    "        y_pred = model.predict(X_features)\n",
    "        return y_pred\n",
    "\n",
    "    # Guardar imágenes futuras\n",
    "    def save_images(images, folder, original_filenames, suffix='_pred'):\n",
    "        num_sequences, future_steps, height, width, channels = images.shape\n",
    "        for i in range(num_sequences):\n",
    "            for j in range(future_steps):\n",
    "                image = images[i, j]\n",
    "                original_filename = os.path.basename(original_filenames[i + sequence_length + j])  # Extraer solo el nombre de archivo\n",
    "                base, ext = os.path.splitext(original_filename)\n",
    "                new_filename = f\"{base}{suffix}{ext}\"\n",
    "                new_filepath = os.path.join(folder, new_filename)\n",
    "                image = (image * 255).astype('uint8')  # Desnormalizar\n",
    "                cv2.imwrite(new_filepath, image)\n",
    "                print(f\"Guardada imagen: {new_filepath}\")\n",
    "\n",
    "\n",
    "    # Obtener predicciones\n",
    "    y_pred = make_predictions(model, X_features)\n",
    "\n",
    "    # Guardar las imágenes futuras predichas en 'Images/Forecast'\n",
    "    save_images(y_pred, forecast_folder, image_files)\n",
    "\n",
    "    # Función para visualizar imágenes\n",
    "    def mostrar_imagenes(imagenes, titulo):\n",
    "        plt.figure(figsize=(12, 6))\n",
    "        for i in range(imagenes.shape[0]):\n",
    "            plt.subplot(1, imagenes.shape[0], i + 1)\n",
    "            plt.imshow(imagenes[i])\n",
    "            plt.axis('off')\n",
    "        plt.suptitle(titulo)\n",
    "        plt.show()\n",
    "\n",
    "    # Visualizar algunas imágenes de entrada y predicciones\n",
    "    indice_secuencia = 0  # Cambia este índice para visualizar diferentes secuencias\n",
    "    mostrar_imagenes(X[indice_secuencia], titulo='Secuencia de Imágenes X')\n",
    "    mostrar_imagenes(y[indice_secuencia], titulo='Imágenes Futuras y')\n",
    "    mostrar_imagenes(y_pred[indice_secuencia], titulo='Predicciones del Modelo')"
   ]
  }
 ],
 "metadata": {
  "kernelspec": {
   "display_name": "base",
   "language": "python",
   "name": "python3"
  },
  "language_info": {
   "codemirror_mode": {
    "name": "ipython",
    "version": 3
   },
   "file_extension": ".py",
   "mimetype": "text/x-python",
   "name": "python",
   "nbconvert_exporter": "python",
   "pygments_lexer": "ipython3",
   "version": "3.11.5"
  }
 },
 "nbformat": 4,
 "nbformat_minor": 2
}
